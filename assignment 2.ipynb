{
 "cells": [
  {
   "cell_type": "markdown",
   "metadata": {},
   "source": [
    "Question 1\n"
   ]
  },
  {
   "cell_type": "code",
   "execution_count": 7,
   "metadata": {},
   "outputs": [
    {
     "name": "stdout",
     "output_type": "stream",
     "text": [
      "\n",
      " Enter the value 1\n",
      "\n",
      " Enter the value 2\n",
      "\n",
      " Enter the value 3\n",
      "\n",
      " Enter the value 4\n",
      "\n",
      " Enter the value 5\n",
      "\n",
      " Enter the value 6\n",
      "\n",
      " Enter the value 7\n",
      "\n",
      " Enter the value 8\n",
      "\n",
      " Enter the value 9\n",
      "\n",
      " Enter the value 10\n",
      "\n",
      " The even list [2, 4, 6, 8, 10]\n"
     ]
    }
   ],
   "source": [
    "#answer:\n",
    "lst = []\n",
    "\n",
    "for i in range(0,10):\n",
    "    x = int(input(\"\\n Enter the value \"))\n",
    "    lst.append(x)\n",
    "    \n",
    "even_lst = []\n",
    "\n",
    "for i in lst:\n",
    "    if(i%2==0):\n",
    "        even_lst.append(i)\n",
    "        \n",
    "print(\"\\n The even list\",even_lst)\n",
    "    \n"
   ]
  },
  {
   "cell_type": "markdown",
   "metadata": {},
   "source": [
    "question 2\n"
   ]
  },
  {
   "cell_type": "code",
   "execution_count": 9,
   "metadata": {},
   "outputs": [
    {
     "name": "stdout",
     "output_type": "stream",
     "text": [
      "[8, 4, 2]\n"
     ]
    }
   ],
   "source": [
    "lst = [1,8,9,4,5,2,9]\n",
    "\n",
    "even_lst = [i for i in lst if i%2==0]\n",
    "\n",
    "print(even_lst)"
   ]
  },
  {
   "cell_type": "markdown",
   "metadata": {},
   "source": [
    "qusetion 3"
   ]
  },
  {
   "cell_type": "code",
   "execution_count": 10,
   "metadata": {},
   "outputs": [
    {
     "name": "stdout",
     "output_type": "stream",
     "text": [
      "8\n",
      "{1: 1, 2: 4, 3: 9, 4: 16, 5: 25, 6: 36, 7: 49, 8: 64}\n"
     ]
    }
   ],
   "source": [
    "dict = {}\n",
    "\n",
    "n = int(input())\n",
    "\n",
    "for i in range(1,n+1):\n",
    "    dict[i] = i*i\n",
    "    \n",
    "print(dict)"
   ]
  },
  {
   "cell_type": "markdown",
   "metadata": {},
   "source": [
    "question 4"
   ]
  },
  {
   "cell_type": "code",
   "execution_count": null,
   "metadata": {},
   "outputs": [],
   "source": [
    "pos = {\"x\" :0,\"y\" :0}\n",
    "\n",
    "n = int(input())\n",
    "\n",
    "for i in range (n):\n",
    "    move = input().split(\" \")\n",
    "    \n",
    "    if move[0].lower()==\"up\":\n",
    "        \n",
    "        pos[\"y\"] += int(move[1])\n",
    "        \n",
    "    elif move[0].lower() ==\"down\":\n",
    "        pos[\"y\"] -= int(move[1])\n",
    "    elif move[0].lower() == \"left\":\n",
    "        pos[\"x\"] -= int(move[1])\n",
    "    elif move[0].lower() == \"right\":\n",
    "         pos[\"x\"] += int(move[1])\n",
    "        \n",
    "print(int(round((post[\"x\"]**2 + pos[\"y\"]**2)**0.5)))\n",
    "    \n",
    "        "
   ]
  },
  {
   "cell_type": "code",
   "execution_count": null,
   "metadata": {},
   "outputs": [],
   "source": []
  },
  {
   "cell_type": "code",
   "execution_count": null,
   "metadata": {},
   "outputs": [],
   "source": []
  },
  {
   "cell_type": "code",
   "execution_count": null,
   "metadata": {},
   "outputs": [],
   "source": []
  }
 ],
 "metadata": {
  "kernelspec": {
   "display_name": "Python 3",
   "language": "python",
   "name": "python3"
  },
  "language_info": {
   "codemirror_mode": {
    "name": "ipython",
    "version": 3
   },
   "file_extension": ".py",
   "mimetype": "text/x-python",
   "name": "python",
   "nbconvert_exporter": "python",
   "pygments_lexer": "ipython3",
   "version": "3.8.3"
  }
 },
 "nbformat": 4,
 "nbformat_minor": 4
}
